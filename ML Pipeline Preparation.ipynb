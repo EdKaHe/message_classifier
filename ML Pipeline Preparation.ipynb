{
 "cells": [
  {
   "cell_type": "markdown",
   "metadata": {},
   "source": [
    "# ML Pipeline Preparation\n",
    "Follow the instructions below to help you create your ML pipeline.\n",
    "### 1. Import libraries and load data from database.\n",
    "- Import Python libraries\n",
    "- Load dataset from database with [`read_sql_table`](https://pandas.pydata.org/pandas-docs/stable/generated/pandas.read_sql_table.html)\n",
    "- Define feature and target variables X and Y"
   ]
  },
  {
   "cell_type": "code",
   "execution_count": null,
   "metadata": {},
   "outputs": [],
   "source": [
    "# import libraries\n",
    "from sqlalchemy import create_engine\n",
    "import pandas as pd\n",
    "\n",
    "from sklearn.pipeline import Pipeline, FeatureUnion\n",
    "from sklearn.feature_extraction.text import CountVectorizer, TfidfTransformer\n",
    "from sklearn.model_selection import train_test_split, GridSearchCV\n",
    "from sklearn.ensemble import RandomForestClassifier\n",
    "from sklearn.metrics import f1_score, accuracy_score, precision_score, recall_score, classification_report\n",
    "from sklearn.base import BaseEstimator, TransformerMixin\n",
    "from sklearn.multioutput import MultiOutputClassifier\n",
    "\n",
    "from nltk.tokenize import word_tokenize\n",
    "from nltk.stem.porter import PorterStemmer\n",
    "from nltk.stem.wordnet import WordNetLemmatizer\n",
    "import nltk\n",
    "\n",
    "import pickle\n",
    "import re\n",
    "\n",
    "nltk.download(['wordnet', 'punkt', 'averaged_perceptron_tagger'])"
   ]
  },
  {
   "cell_type": "code",
   "execution_count": 2,
   "metadata": {},
   "outputs": [
    {
     "name": "stderr",
     "output_type": "stream",
     "text": [
      "/opt/conda/lib/python3.6/site-packages/ipykernel_launcher.py:15: FutureWarning: Method .as_matrix will be removed in a future version. Use .values instead.\n",
      "  from ipykernel import kernelapp as app\n"
     ]
    },
    {
     "data": {
      "text/plain": [
       "(26216, 40)"
      ]
     },
     "execution_count": 2,
     "metadata": {},
     "output_type": "execute_result"
    }
   ],
   "source": [
    "# load data from database\n",
    "engine = create_engine('sqlite:///disaster_response.db')\n",
    "df = pd.read_sql_table('messages', con=engine)\n",
    "# define the label columns\n",
    "label_cols = ['related', 'request', 'offer',\n",
    "       'aid_related', 'medical_help', 'medical_products', 'search_and_rescue',\n",
    "       'security', 'military', 'child_alone', 'water', 'food', 'shelter',\n",
    "       'clothing', 'money', 'missing_people', 'refugees', 'death', 'other_aid',\n",
    "       'infrastructure_related', 'transport', 'buildings', 'electricity',\n",
    "       'tools', 'hospitals', 'shops', 'aid_centers', 'other_infrastructure',\n",
    "       'weather_related', 'floods', 'storm', 'fire', 'earthquake', 'cold',\n",
    "       'other_weather', 'direct_report']\n",
    "# seperate predictor and response variable\n",
    "X = df['message']\n",
    "y = df[label_cols].as_matrix()\n",
    "df.shape"
   ]
  },
  {
   "cell_type": "markdown",
   "metadata": {},
   "source": [
    "### 2. Write a tokenization function to process your text data"
   ]
  },
  {
   "cell_type": "code",
   "execution_count": 3,
   "metadata": {},
   "outputs": [
    {
     "name": "stdout",
     "output_type": "stream",
     "text": [
      "['plea', 'we', 'need', 'tent', 'and', 'water', 'we', 'are', 'in', 'silo', 'thank', 'you', '!']\n"
     ]
    }
   ],
   "source": [
    "def tokenize_word(text):\n",
    "    # transform string to lowercase\n",
    "    text = text.lower()\n",
    "    # substitute any characters but letters and numbers\n",
    "    text = re.sub(r\"[^a-z0-9]\", \" \", text)\n",
    "    # tokenize words\n",
    "    token = word_tokenize(text)\n",
    "    \n",
    "    # reduce words to their stem\n",
    "    token =  [PorterStemmer().stem(tok) for tok in token]\n",
    "    \n",
    "    # lemmatize the words\n",
    "    token = [WordNetLemmatizer().lemmatize(tok) for tok in token]\n",
    "    \n",
    "    return token\n",
    "\n",
    "def tokenize_punct(text):\n",
    "    # transform string to lowercase\n",
    "    text = text.lower()\n",
    "    # substitute any characters but letters and numbers\n",
    "    text = re.sub(r\"[^a-z0-9!?]\", \" \", text)\n",
    "    # tokenize words\n",
    "    token = word_tokenize(text)\n",
    "    \n",
    "    # reduce words to their stem\n",
    "    token =  [PorterStemmer().stem(tok) for tok in token]\n",
    "    \n",
    "    # lemmatize the words\n",
    "    token = [WordNetLemmatizer().lemmatize(tok) for tok in token]\n",
    "    \n",
    "    return token\n",
    "\n",
    "print(tokenize_punct(X[7]))"
   ]
  },
  {
   "cell_type": "markdown",
   "metadata": {},
   "source": [
    "### 3. Build a machine learning pipeline\n",
    "This machine pipeline should take in the `message` column as input and output classification results on the other 36 categories in the dataset. You may find the [MultiOutputClassifier](http://scikit-learn.org/stable/modules/generated/sklearn.multioutput.MultiOutputClassifier.html) helpful for predicting multiple target variables."
   ]
  },
  {
   "cell_type": "code",
   "execution_count": 4,
   "metadata": {},
   "outputs": [],
   "source": [
    "# build a simple pipeline\n",
    "pipeline = Pipeline([\n",
    "    ('vect', CountVectorizer(tokenizer=tokenize_word)),\n",
    "    ('tfidf', TfidfTransformer()),\n",
    "    ('clf', MultiOutputClassifier(RandomForestClassifier())),\n",
    "])"
   ]
  },
  {
   "cell_type": "markdown",
   "metadata": {},
   "source": [
    "### 4. Train pipeline\n",
    "- Split data into train and test sets\n",
    "- Train pipeline"
   ]
  },
  {
   "cell_type": "code",
   "execution_count": 5,
   "metadata": {},
   "outputs": [
    {
     "data": {
      "text/plain": [
       "Pipeline(memory=None,\n",
       "     steps=[('vect', CountVectorizer(analyzer='word', binary=False, decode_error='strict',\n",
       "        dtype=<class 'numpy.int64'>, encoding='utf-8', input='content',\n",
       "        lowercase=True, max_df=1.0, max_features=None, min_df=1,\n",
       "        ngram_range=(1, 1), preprocessor=None, stop_words=None,\n",
       "        strip...oob_score=False, random_state=None, verbose=0,\n",
       "            warm_start=False),\n",
       "           n_jobs=1))])"
      ]
     },
     "execution_count": 5,
     "metadata": {},
     "output_type": "execute_result"
    }
   ],
   "source": [
    "# perform test train split\n",
    "X_train, X_test, y_train, y_test = train_test_split(X, y, test_size=0.33, random_state=42)\n",
    "\n",
    "# fit the pipeline\n",
    "pipeline.fit(X_train, y_train)"
   ]
  },
  {
   "cell_type": "markdown",
   "metadata": {},
   "source": [
    "### 5. Test your model\n",
    "Report the f1 score, precision and recall for each output category of the dataset. You can do this by iterating through the columns and calling sklearn's `classification_report` on each."
   ]
  },
  {
   "cell_type": "code",
   "execution_count": 6,
   "metadata": {},
   "outputs": [],
   "source": [
    "# predict the train data\n",
    "y_pred_train = pipeline.predict(X_train)\n",
    "# predict the test data\n",
    "y_pred_test = pipeline.predict(X_test)"
   ]
  },
  {
   "cell_type": "code",
   "execution_count": 7,
   "metadata": {
    "scrolled": true
   },
   "outputs": [
    {
     "name": "stdout",
     "output_type": "stream",
     "text": [
      "                        precision    recall  f1-score   support\n",
      "\n",
      "               related       0.99      1.00      0.99     13496\n",
      "               request       1.00      0.93      0.96      3002\n",
      "                 offer       1.00      0.66      0.80        80\n",
      "           aid_related       1.00      0.97      0.98      7315\n",
      "          medical_help       1.00      0.85      0.92      1383\n",
      "      medical_products       1.00      0.85      0.92       867\n",
      "     search_and_rescue       1.00      0.76      0.86       498\n",
      "              security       1.00      0.74      0.85       311\n",
      "              military       1.00      0.87      0.93       593\n",
      "           child_alone       0.00      0.00      0.00         0\n",
      "                 water       1.00      0.92      0.96      1129\n",
      "                  food       1.00      0.95      0.97      1958\n",
      "               shelter       1.00      0.92      0.96      1539\n",
      "              clothing       1.00      0.86      0.92       278\n",
      "                 money       1.00      0.80      0.89       413\n",
      "        missing_people       1.00      0.74      0.85       194\n",
      "              refugees       1.00      0.80      0.89       582\n",
      "                 death       1.00      0.89      0.94       788\n",
      "             other_aid       1.00      0.83      0.90      2307\n",
      "infrastructure_related       1.00      0.77      0.87      1137\n",
      "             transport       1.00      0.83      0.91       794\n",
      "             buildings       1.00      0.86      0.93       892\n",
      "           electricity       1.00      0.81      0.89       347\n",
      "                 tools       1.00      0.69      0.82       106\n",
      "             hospitals       1.00      0.70      0.82       198\n",
      "                 shops       1.00      0.74      0.85        86\n",
      "           aid_centers       1.00      0.71      0.83       194\n",
      "  other_infrastructure       1.00      0.78      0.88       768\n",
      "       weather_related       1.00      0.96      0.98      4907\n",
      "                floods       1.00      0.91      0.95      1462\n",
      "                 storm       1.00      0.94      0.97      1631\n",
      "                  fire       1.00      0.78      0.87       192\n",
      "            earthquake       1.00      0.96      0.98      1668\n",
      "                  cold       1.00      0.84      0.91       343\n",
      "         other_weather       1.00      0.83      0.91       924\n",
      "         direct_report       1.00      0.92      0.96      3381\n",
      "\n",
      "           avg / total       1.00      0.93      0.96     55763\n",
      "\n"
     ]
    },
    {
     "name": "stderr",
     "output_type": "stream",
     "text": [
      "/opt/conda/lib/python3.6/site-packages/sklearn/metrics/classification.py:1135: UndefinedMetricWarning: Precision and F-score are ill-defined and being set to 0.0 in labels with no predicted samples.\n",
      "  'precision', 'predicted', average, warn_for)\n",
      "/opt/conda/lib/python3.6/site-packages/sklearn/metrics/classification.py:1137: UndefinedMetricWarning: Recall and F-score are ill-defined and being set to 0.0 in labels with no true samples.\n",
      "  'recall', 'true', average, warn_for)\n"
     ]
    }
   ],
   "source": [
    "# score the train data\n",
    "print(classification_report(y_train.astype(bool), y_pred_train.astype(bool), target_names=label_cols))"
   ]
  },
  {
   "cell_type": "code",
   "execution_count": 8,
   "metadata": {
    "scrolled": true
   },
   "outputs": [
    {
     "name": "stdout",
     "output_type": "stream",
     "text": [
      "                        precision    recall  f1-score   support\n",
      "\n",
      "               related       0.82      0.93      0.87      6598\n",
      "               request       0.85      0.37      0.52      1472\n",
      "                 offer       0.00      0.00      0.00        38\n",
      "           aid_related       0.75      0.54      0.63      3545\n",
      "          medical_help       0.56      0.06      0.10       701\n",
      "      medical_products       0.72      0.06      0.11       446\n",
      "     search_and_rescue       1.00      0.04      0.07       226\n",
      "              security       0.00      0.00      0.00       160\n",
      "              military       0.53      0.08      0.14       267\n",
      "           child_alone       0.00      0.00      0.00         0\n",
      "                 water       0.87      0.19      0.31       543\n",
      "                  food       0.82      0.46      0.59       965\n",
      "               shelter       0.81      0.19      0.31       775\n",
      "              clothing       0.83      0.12      0.21       127\n",
      "                 money       0.89      0.04      0.08       191\n",
      "        missing_people       0.00      0.00      0.00       104\n",
      "              refugees       0.59      0.03      0.06       293\n",
      "                 death       0.79      0.11      0.20       406\n",
      "             other_aid       0.45      0.02      0.04      1139\n",
      "infrastructure_related       0.22      0.00      0.01       568\n",
      "             transport       0.66      0.07      0.12       407\n",
      "             buildings       0.59      0.06      0.11       441\n",
      "           electricity       0.80      0.04      0.08       185\n",
      "                 tools       0.00      0.00      0.00        53\n",
      "             hospitals       0.00      0.00      0.00        85\n",
      "                 shops       0.00      0.00      0.00        34\n",
      "           aid_centers       0.00      0.00      0.00       115\n",
      "  other_infrastructure       0.20      0.00      0.01       383\n",
      "       weather_related       0.82      0.53      0.65      2390\n",
      "                floods       0.83      0.32      0.46       693\n",
      "                 storm       0.72      0.37      0.49       812\n",
      "                  fire       0.00      0.00      0.00        90\n",
      "            earthquake       0.89      0.63      0.73       787\n",
      "                  cold       0.67      0.10      0.17       187\n",
      "         other_weather       0.54      0.02      0.03       452\n",
      "         direct_report       0.77      0.27      0.41      1694\n",
      "\n",
      "           avg / total       0.73      0.45      0.50     27372\n",
      "\n"
     ]
    },
    {
     "name": "stderr",
     "output_type": "stream",
     "text": [
      "/opt/conda/lib/python3.6/site-packages/sklearn/metrics/classification.py:1135: UndefinedMetricWarning: Precision and F-score are ill-defined and being set to 0.0 in labels with no predicted samples.\n",
      "  'precision', 'predicted', average, warn_for)\n",
      "/opt/conda/lib/python3.6/site-packages/sklearn/metrics/classification.py:1137: UndefinedMetricWarning: Recall and F-score are ill-defined and being set to 0.0 in labels with no true samples.\n",
      "  'recall', 'true', average, warn_for)\n"
     ]
    }
   ],
   "source": [
    "# score the test data\n",
    "print(classification_report(y_test.astype(bool), y_pred_test.astype(bool), target_names=label_cols))"
   ]
  },
  {
   "cell_type": "markdown",
   "metadata": {},
   "source": [
    "### 6. Improve your model\n",
    "Use grid search to find better parameters. "
   ]
  },
  {
   "cell_type": "code",
   "execution_count": 9,
   "metadata": {},
   "outputs": [
    {
     "data": {
      "text/plain": [
       "GridSearchCV(cv=None, error_score='raise',\n",
       "       estimator=Pipeline(memory=None,\n",
       "     steps=[('vect', CountVectorizer(analyzer='word', binary=False, decode_error='strict',\n",
       "        dtype=<class 'numpy.int64'>, encoding='utf-8', input='content',\n",
       "        lowercase=True, max_df=1.0, max_features=None, min_df=1,\n",
       "        ngram_range=(1, 1), preprocessor=None, stop_words=None,\n",
       "        strip...oob_score=False, random_state=None, verbose=0,\n",
       "            warm_start=False),\n",
       "           n_jobs=1))]),\n",
       "       fit_params=None, iid=True, n_jobs=1,\n",
       "       param_grid={'vect__tokenizer': (<function tokenize_word at 0x7fb80918d268>, <function tokenize_punct at 0x7fb7ceb232f0>), 'vect__ngram_range': ((1, 1), (1, 2)), 'clf__estimator__n_estimators': (1, 20), 'clf__estimator__min_samples_split': (2, 5)},\n",
       "       pre_dispatch='2*n_jobs', refit=True, return_train_score='warn',\n",
       "       scoring=None, verbose=0)"
      ]
     },
     "execution_count": 9,
     "metadata": {},
     "output_type": "execute_result"
    }
   ],
   "source": [
    "parameters = {\n",
    "    'vect__tokenizer': (tokenize_word, tokenize_punct),\n",
    "    'vect__ngram_range': ((1, 1), (1, 2)),\n",
    "    'clf__estimator__n_estimators': (1, 20),\n",
    "    'clf__estimator__min_samples_split': (2, 5),\n",
    "}\n",
    "\n",
    "cv = GridSearchCV(pipeline, param_grid=parameters)\n",
    "\n",
    "# fit model to the train data\n",
    "cv.fit(X_train, y_train)"
   ]
  },
  {
   "cell_type": "markdown",
   "metadata": {},
   "source": [
    "### 7. Test your model\n",
    "Show the accuracy, precision, and recall of the tuned model.  \n",
    "\n",
    "Since this project focuses on code quality, process, and  pipelines, there is no minimum performance metric needed to pass. However, make sure to fine tune your models for accuracy, precision and recall to make your project stand out - especially for your portfolio!"
   ]
  },
  {
   "cell_type": "code",
   "execution_count": 10,
   "metadata": {},
   "outputs": [
    {
     "name": "stdout",
     "output_type": "stream",
     "text": [
      "Best Parameters: {'clf__estimator__min_samples_split': 2, 'clf__estimator__n_estimators': 20, 'vect__ngram_range': (1, 2), 'vect__tokenizer': <function tokenize_punct at 0x7fb7ceb232f0>}\n"
     ]
    }
   ],
   "source": [
    "print(\"Best Parameters:\", cv.best_params_)"
   ]
  },
  {
   "cell_type": "code",
   "execution_count": 11,
   "metadata": {},
   "outputs": [],
   "source": [
    "# predict the labels\n",
    "y_pred_train = cv.predict(X_train) \n",
    "y_pred_test = cv.predict(X_test)"
   ]
  },
  {
   "cell_type": "code",
   "execution_count": 12,
   "metadata": {},
   "outputs": [
    {
     "name": "stdout",
     "output_type": "stream",
     "text": [
      "                        precision    recall  f1-score   support\n",
      "\n",
      "               related       0.81      0.95      0.88      6598\n",
      "               request       0.88      0.40      0.55      1472\n",
      "                 offer       0.00      0.00      0.00        38\n",
      "           aid_related       0.75      0.55      0.63      3545\n",
      "          medical_help       0.64      0.06      0.10       701\n",
      "      medical_products       0.80      0.05      0.10       446\n",
      "     search_and_rescue       0.81      0.06      0.11       226\n",
      "              security       0.00      0.00      0.00       160\n",
      "              military       0.36      0.01      0.03       267\n",
      "           child_alone       0.00      0.00      0.00         0\n",
      "                 water       0.90      0.22      0.35       543\n",
      "                  food       0.86      0.42      0.57       965\n",
      "               shelter       0.86      0.22      0.35       775\n",
      "              clothing       0.73      0.06      0.12       127\n",
      "                 money       0.89      0.04      0.08       191\n",
      "        missing_people       1.00      0.01      0.02       104\n",
      "              refugees       0.25      0.01      0.01       293\n",
      "                 death       0.89      0.12      0.20       406\n",
      "             other_aid       0.50      0.02      0.04      1139\n",
      "infrastructure_related       0.50      0.00      0.00       568\n",
      "             transport       0.61      0.03      0.05       407\n",
      "             buildings       0.75      0.10      0.18       441\n",
      "           electricity       0.75      0.02      0.03       185\n",
      "                 tools       0.00      0.00      0.00        53\n",
      "             hospitals       0.00      0.00      0.00        85\n",
      "                 shops       0.00      0.00      0.00        34\n",
      "           aid_centers       0.00      0.00      0.00       115\n",
      "  other_infrastructure       0.00      0.00      0.00       383\n",
      "       weather_related       0.85      0.54      0.66      2390\n",
      "                floods       0.89      0.35      0.51       693\n",
      "                 storm       0.78      0.34      0.47       812\n",
      "                  fire       0.50      0.02      0.04        90\n",
      "            earthquake       0.88      0.74      0.81       787\n",
      "                  cold       0.71      0.03      0.05       187\n",
      "         other_weather       0.81      0.03      0.06       452\n",
      "         direct_report       0.83      0.32      0.46      1694\n",
      "\n",
      "           avg / total       0.76      0.46      0.51     27372\n",
      "\n"
     ]
    },
    {
     "name": "stderr",
     "output_type": "stream",
     "text": [
      "/opt/conda/lib/python3.6/site-packages/sklearn/metrics/classification.py:1135: UndefinedMetricWarning: Precision and F-score are ill-defined and being set to 0.0 in labels with no predicted samples.\n",
      "  'precision', 'predicted', average, warn_for)\n",
      "/opt/conda/lib/python3.6/site-packages/sklearn/metrics/classification.py:1137: UndefinedMetricWarning: Recall and F-score are ill-defined and being set to 0.0 in labels with no true samples.\n",
      "  'recall', 'true', average, warn_for)\n"
     ]
    }
   ],
   "source": [
    "# score the test data\n",
    "print(classification_report(y_test.astype(bool), y_pred_test.astype(bool), target_names=label_cols))"
   ]
  },
  {
   "cell_type": "markdown",
   "metadata": {},
   "source": [
    "### 8. Try improving your model further. Here are a few ideas:\n",
    "* try other machine learning algorithms\n",
    "* add other features besides the TF-IDF"
   ]
  },
  {
   "cell_type": "code",
   "execution_count": 62,
   "metadata": {},
   "outputs": [],
   "source": [
    "# get the length of each message\n",
    "class MessageLength(BaseEstimator, TransformerMixin):\n",
    "    def msg_len(self, msg):\n",
    "        return len(tokenize_punct(msg))\n",
    "\n",
    "    def fit(self, x, y=None):\n",
    "        return self\n",
    "\n",
    "    def transform(self, X):\n",
    "        X = pd.Series(X).apply(self.msg_len)\n",
    "        return pd.DataFrame(X)\n",
    "    \n",
    "# extract the parts of speech in each message\n",
    "def tokenize_pos(msg):\n",
    "    tokens = tokenize_word(msg)\n",
    "    try:\n",
    "        pos_tags = list(zip(*nltk.pos_tag(tokens)))[1]\n",
    "    except:\n",
    "        pos_tags = 'INVALID'\n",
    "        \n",
    "    return list(pos_tags)"
   ]
  },
  {
   "cell_type": "code",
   "execution_count": 73,
   "metadata": {},
   "outputs": [
    {
     "data": {
      "text/plain": [
       "Pipeline(memory=None,\n",
       "     steps=[('features', FeatureUnion(n_jobs=1,\n",
       "       transformer_list=[('text_pipeline', Pipeline(memory=None,\n",
       "     steps=[('vect', CountVectorizer(analyzer='word', binary=False, decode_error='strict',\n",
       "        dtype=<class 'numpy.int64'>, encoding='utf-8', input='content',\n",
       "        lowercase=True, max_d...oob_score=False, random_state=None, verbose=0,\n",
       "            warm_start=False),\n",
       "           n_jobs=1))])"
      ]
     },
     "execution_count": 73,
     "metadata": {},
     "output_type": "execute_result"
    }
   ],
   "source": [
    "# build a pipeline\n",
    "pipeline = Pipeline([\n",
    "    ('features', FeatureUnion([\n",
    "        ('text_pipeline', Pipeline([\n",
    "            ('vect', CountVectorizer(tokenizer=tokenize_punct)),\n",
    "            ('tfidf', TfidfTransformer()),\n",
    "            ])),\n",
    "        ('pos_pipeline', Pipeline([\n",
    "            ('vect', CountVectorizer(tokenizer=tokenize_pos)),\n",
    "            ('tfidf', TfidfTransformer()),\n",
    "            ])),\n",
    "        ('msg_len', MessageLength()),\n",
    "    ])),\n",
    "    ('clf', MultiOutputClassifier(RandomForestClassifier(n_estimators=100, \n",
    "                                                        min_samples_split=2))),\n",
    "])\n",
    "\n",
    "# fit the pipeline\n",
    "pipeline.fit(X_train, y_train)"
   ]
  },
  {
   "cell_type": "code",
   "execution_count": 74,
   "metadata": {},
   "outputs": [],
   "source": [
    "# predict the test data\n",
    "y_pred_test = pipeline.predict(X_test)"
   ]
  },
  {
   "cell_type": "code",
   "execution_count": 75,
   "metadata": {},
   "outputs": [
    {
     "name": "stdout",
     "output_type": "stream",
     "text": [
      "                        precision    recall  f1-score   support\n",
      "\n",
      "               related       0.80      0.97      0.88      6598\n",
      "               request       0.91      0.37      0.53      1472\n",
      "                 offer       0.00      0.00      0.00        38\n",
      "           aid_related       0.78      0.59      0.67      3545\n",
      "          medical_help       0.75      0.04      0.08       701\n",
      "      medical_products       0.83      0.03      0.06       446\n",
      "     search_and_rescue       0.75      0.01      0.03       226\n",
      "              security       0.00      0.00      0.00       160\n",
      "              military       0.38      0.02      0.04       267\n",
      "           child_alone       0.00      0.00      0.00         0\n",
      "                 water       0.93      0.17      0.29       543\n",
      "                  food       0.90      0.27      0.42       965\n",
      "               shelter       0.87      0.15      0.25       775\n",
      "              clothing       1.00      0.04      0.08       127\n",
      "                 money       0.83      0.03      0.05       191\n",
      "        missing_people       0.00      0.00      0.00       104\n",
      "              refugees       0.33      0.00      0.01       293\n",
      "                 death       0.88      0.06      0.11       406\n",
      "             other_aid       0.62      0.01      0.02      1139\n",
      "infrastructure_related       0.00      0.00      0.00       568\n",
      "             transport       0.65      0.04      0.07       407\n",
      "             buildings       0.67      0.02      0.04       441\n",
      "           electricity       1.00      0.01      0.02       185\n",
      "                 tools       0.00      0.00      0.00        53\n",
      "             hospitals       0.00      0.00      0.00        85\n",
      "                 shops       0.00      0.00      0.00        34\n",
      "           aid_centers       0.00      0.00      0.00       115\n",
      "  other_infrastructure       1.00      0.00      0.01       383\n",
      "       weather_related       0.86      0.57      0.69      2390\n",
      "                floods       0.92      0.33      0.48       693\n",
      "                 storm       0.78      0.34      0.47       812\n",
      "                  fire       0.00      0.00      0.00        90\n",
      "            earthquake       0.89      0.70      0.78       787\n",
      "                  cold       0.65      0.06      0.11       187\n",
      "         other_weather       0.75      0.01      0.01       452\n",
      "         direct_report       0.87      0.34      0.49      1694\n",
      "\n",
      "           avg / total       0.77      0.46      0.50     27372\n",
      "\n"
     ]
    },
    {
     "name": "stderr",
     "output_type": "stream",
     "text": [
      "/opt/conda/lib/python3.6/site-packages/sklearn/metrics/classification.py:1135: UndefinedMetricWarning: Precision and F-score are ill-defined and being set to 0.0 in labels with no predicted samples.\n",
      "  'precision', 'predicted', average, warn_for)\n",
      "/opt/conda/lib/python3.6/site-packages/sklearn/metrics/classification.py:1137: UndefinedMetricWarning: Recall and F-score are ill-defined and being set to 0.0 in labels with no true samples.\n",
      "  'recall', 'true', average, warn_for)\n"
     ]
    }
   ],
   "source": [
    "print(classification_report(y_test > 0.5, y_pred_test > 0.5, target_names=label_cols))"
   ]
  },
  {
   "cell_type": "markdown",
   "metadata": {},
   "source": [
    "### 9. Export your model as a pickle file"
   ]
  },
  {
   "cell_type": "code",
   "execution_count": 76,
   "metadata": {},
   "outputs": [],
   "source": [
    "filename = 'model.p'\n",
    "with open(filename, 'wb') as file:\n",
    "    pickle.dump(pipeline, file)"
   ]
  },
  {
   "cell_type": "markdown",
   "metadata": {},
   "source": [
    "### 10. Use this notebook to complete `train.py`\n",
    "Use the template file attached in the Resources folder to write a script that runs the steps above to create a database and export a model based on a new dataset specified by the user."
   ]
  },
  {
   "cell_type": "code",
   "execution_count": 78,
   "metadata": {},
   "outputs": [],
   "source": [
    "def train(X, y, filename='model.p'):\n",
    "    # build a simple pipeline\n",
    "    pipeline = Pipeline([\n",
    "        ('features', FeatureUnion([\n",
    "            ('text_pipeline', Pipeline([\n",
    "                ('vect', CountVectorizer(tokenizer=tokenize_punct)),\n",
    "                ('tfidf', TfidfTransformer()),\n",
    "                ])),\n",
    "            ('pos_pipeline', Pipeline([\n",
    "                ('vect', CountVectorizer(tokenizer=tokenize_pos)),\n",
    "                ('tfidf', TfidfTransformer()),\n",
    "                ])),\n",
    "            ('msg_len', MessageLength()),\n",
    "        ])),\n",
    "        ('clf', MultiOutputClassifier(RandomForestClassifier())),\n",
    "    ])\n",
    "    \n",
    "    # get parameters for cross validation\n",
    "    parameters = {\n",
    "        'features__text_pipeline__vect__tokenizer': (tokenize_word, tokenize_punct),\n",
    "        'features__text_pipeline__vect__ngram_range': ((1, 1), (1, 2)),\n",
    "        'clf__estimator__n_estimators': (20, 50),\n",
    "        'clf__estimator__min_samples_split': [2, 5],\n",
    "    }\n",
    "    \n",
    "    # instantiate the cross validator\n",
    "    cv = GridSearchCV(pipeline, param_grid=parameters)\n",
    "    \n",
    "    # fit the model to the data\n",
    "    cv.fit(X, y)\n",
    "    \n",
    "    # save the model\n",
    "    with open(filename, 'wb') as file:\n",
    "        pickle.dump(pipeline, file)"
   ]
  },
  {
   "cell_type": "code",
   "execution_count": null,
   "metadata": {},
   "outputs": [],
   "source": []
  }
 ],
 "metadata": {
  "kernelspec": {
   "display_name": "Python 3",
   "language": "python",
   "name": "python3"
  },
  "language_info": {
   "codemirror_mode": {
    "name": "ipython",
    "version": 3
   },
   "file_extension": ".py",
   "mimetype": "text/x-python",
   "name": "python",
   "nbconvert_exporter": "python",
   "pygments_lexer": "ipython3",
   "version": "3.6.8"
  }
 },
 "nbformat": 4,
 "nbformat_minor": 2
}
